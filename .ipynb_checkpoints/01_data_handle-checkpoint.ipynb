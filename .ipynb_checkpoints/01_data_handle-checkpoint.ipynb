{
 "cells": [
  {
   "cell_type": "markdown",
   "metadata": {
    "hide_input": true
   },
   "source": [
    "#  read data"
   ]
  },
  {
   "cell_type": "code",
   "execution_count": 1,
   "metadata": {},
   "outputs": [],
   "source": [
    "import pandas as pd"
   ]
  },
  {
   "cell_type": "code",
   "execution_count": 2,
   "metadata": {},
   "outputs": [],
   "source": [
    "df = pd.read_excel ('data/IMEX-IN-2016-06-EX.part2.xlsx',engine='openpyxl')"
   ]
  },
  {
   "cell_type": "code",
   "execution_count": 4,
   "metadata": {},
   "outputs": [
    {
     "data": {
      "text/html": [
       "<div>\n",
       "<style scoped>\n",
       "    .dataframe tbody tr th:only-of-type {\n",
       "        vertical-align: middle;\n",
       "    }\n",
       "\n",
       "    .dataframe tbody tr th {\n",
       "        vertical-align: top;\n",
       "    }\n",
       "\n",
       "    .dataframe thead th {\n",
       "        text-align: right;\n",
       "    }\n",
       "</style>\n",
       "<table border=\"1\" class=\"dataframe\">\n",
       "  <thead>\n",
       "    <tr style=\"text-align: right;\">\n",
       "      <th></th>\n",
       "      <th>BillNO</th>\n",
       "      <th>4Digit</th>\n",
       "      <th>Date</th>\n",
       "      <th>HSCode</th>\n",
       "      <th>Product</th>\n",
       "      <th>Quantity</th>\n",
       "      <th>Unit</th>\n",
       "      <th>Item_Rate_INV</th>\n",
       "      <th>Currency</th>\n",
       "      <th>Total_Amount_INV_FC</th>\n",
       "      <th>...</th>\n",
       "      <th>IndianCompany</th>\n",
       "      <th>Address1</th>\n",
       "      <th>Address2</th>\n",
       "      <th>City</th>\n",
       "      <th>ForeignCompany</th>\n",
       "      <th>Invoice_No</th>\n",
       "      <th>CUSH</th>\n",
       "      <th>IEC_PIN</th>\n",
       "      <th>Item_No</th>\n",
       "      <th>Item_Rate_INR</th>\n",
       "    </tr>\n",
       "  </thead>\n",
       "  <tbody>\n",
       "    <tr>\n",
       "      <th>0</th>\n",
       "      <td>8001439</td>\n",
       "      <td>2915</td>\n",
       "      <td>2016-06-01</td>\n",
       "      <td>29157090</td>\n",
       "      <td>ETHYLENE GLYCOL DISTERATE (Assay 98% minimum) ...</td>\n",
       "      <td>2400.000</td>\n",
       "      <td>KGS</td>\n",
       "      <td>2.855</td>\n",
       "      <td>USD</td>\n",
       "      <td>6852.000000</td>\n",
       "      <td>...</td>\n",
       "      <td>GALAXY SURFACTANTS LTD.,</td>\n",
       "      <td>C-49/2,TTC INDUSTRIAL AREAPAWNE,  NAVI MUMBAI.</td>\n",
       "      <td>NaN</td>\n",
       "      <td>MAHARASHTRA</td>\n",
       "      <td>UNILEVER BANGLADESH LTD.</td>\n",
       "      <td>80206964</td>\n",
       "      <td>INNSA1</td>\n",
       "      <td>400703</td>\n",
       "      <td>1</td>\n",
       "      <td>181.666300</td>\n",
       "    </tr>\n",
       "    <tr>\n",
       "      <th>1</th>\n",
       "      <td>8021997</td>\n",
       "      <td>2915</td>\n",
       "      <td>2016-06-01</td>\n",
       "      <td>29159090</td>\n",
       "      <td>COSMOSIL IM</td>\n",
       "      <td>2100.000</td>\n",
       "      <td>KGS</td>\n",
       "      <td>5.750</td>\n",
       "      <td>USD</td>\n",
       "      <td>12075.000000</td>\n",
       "      <td>...</td>\n",
       "      <td>DADIA CHEMICAL INDUSTRIES</td>\n",
       "      <td>201, SHIVAM , 3RD FLOOR,  SATYAM SHOPPING CENT...</td>\n",
       "      <td>NaN</td>\n",
       "      <td>GHATKOPAR (EAST), MUMBAI</td>\n",
       "      <td>HARUMI HOLDINGS (PVT) LTD,</td>\n",
       "      <td>DCI/EXP-03/16-17</td>\n",
       "      <td>INNSA1</td>\n",
       "      <td>PIN-400077</td>\n",
       "      <td>1</td>\n",
       "      <td>387.831548</td>\n",
       "    </tr>\n",
       "    <tr>\n",
       "      <th>2</th>\n",
       "      <td>8019786</td>\n",
       "      <td>2916</td>\n",
       "      <td>2016-06-01</td>\n",
       "      <td>29163190</td>\n",
       "      <td>MEBEVERINE HCL BP</td>\n",
       "      <td>750.000</td>\n",
       "      <td>KGS</td>\n",
       "      <td>85.000</td>\n",
       "      <td>USD</td>\n",
       "      <td>63750.000000</td>\n",
       "      <td>...</td>\n",
       "      <td>RA CHEM PHARMA LIMITED</td>\n",
       "      <td>#.6-3-1239/2, AMAR HOUSE, 4TH FLOORRAJBHAWAN R...</td>\n",
       "      <td>NaN</td>\n",
       "      <td>HYDERABAD, A.P.</td>\n",
       "      <td>MEDICAL &amp; COSMETIC PRODUCTS CO.LTD</td>\n",
       "      <td>EXP/A106/16-17</td>\n",
       "      <td>INHYD4</td>\n",
       "      <td>500082</td>\n",
       "      <td>1</td>\n",
       "      <td>5512.002000</td>\n",
       "    </tr>\n",
       "    <tr>\n",
       "      <th>3</th>\n",
       "      <td>8006507</td>\n",
       "      <td>2916</td>\n",
       "      <td>2016-06-01</td>\n",
       "      <td>29163990</td>\n",
       "      <td>WE INTEND TO CLAIM REWARDS UNDER MERCHANDISE E...</td>\n",
       "      <td>0.001</td>\n",
       "      <td>NOS</td>\n",
       "      <td>0.001</td>\n",
       "      <td>USD</td>\n",
       "      <td>0.000001</td>\n",
       "      <td>...</td>\n",
       "      <td>CHEMSPEC CHEMICALS PVT LTD</td>\n",
       "      <td>9 WALLACE ST FORT</td>\n",
       "      <td>NaN</td>\n",
       "      <td>BOMBAY         ,MAHARASHTRA</td>\n",
       "      <td>COSBEL S.A. DE C.V.</td>\n",
       "      <td>CSEXP/2016-17/143</td>\n",
       "      <td>INNSA1</td>\n",
       "      <td>400001</td>\n",
       "      <td>2</td>\n",
       "      <td>0.000000</td>\n",
       "    </tr>\n",
       "    <tr>\n",
       "      <th>4</th>\n",
       "      <td>8015210</td>\n",
       "      <td>2917</td>\n",
       "      <td>2016-06-01</td>\n",
       "      <td>29171990</td>\n",
       "      <td>\"Payflex-M-80\" Di Octyl Maleate Ester, C</td>\n",
       "      <td>44000.000</td>\n",
       "      <td>KGS</td>\n",
       "      <td>1.180</td>\n",
       "      <td>USD</td>\n",
       "      <td>51920.000000</td>\n",
       "      <td>...</td>\n",
       "      <td>PAYAL PETROCHEM PRIVATE LIMITED</td>\n",
       "      <td>E-24, NETAJI SUBHASH MARGDARYAGANJ</td>\n",
       "      <td>NaN</td>\n",
       "      <td>NEW DELH I</td>\n",
       "      <td>S. S. C. I.. C. L.</td>\n",
       "      <td>PM/EXP/048</td>\n",
       "      <td>INHZA1</td>\n",
       "      <td>NaN</td>\n",
       "      <td>1</td>\n",
       "      <td>0.000000</td>\n",
       "    </tr>\n",
       "  </tbody>\n",
       "</table>\n",
       "<p>5 rows × 25 columns</p>\n",
       "</div>"
      ],
      "text/plain": [
       "    BillNO  4Digit       Date    HSCode  \\\n",
       "0  8001439    2915 2016-06-01  29157090   \n",
       "1  8021997    2915 2016-06-01  29159090   \n",
       "2  8019786    2916 2016-06-01  29163190   \n",
       "3  8006507    2916 2016-06-01  29163990   \n",
       "4  8015210    2917 2016-06-01  29171990   \n",
       "\n",
       "                                             Product   Quantity Unit  \\\n",
       "0  ETHYLENE GLYCOL DISTERATE (Assay 98% minimum) ...   2400.000  KGS   \n",
       "1                                        COSMOSIL IM   2100.000  KGS   \n",
       "2                                  MEBEVERINE HCL BP    750.000  KGS   \n",
       "3  WE INTEND TO CLAIM REWARDS UNDER MERCHANDISE E...      0.001  NOS   \n",
       "4           \"Payflex-M-80\" Di Octyl Maleate Ester, C  44000.000  KGS   \n",
       "\n",
       "   Item_Rate_INV Currency  Total_Amount_INV_FC  ...  \\\n",
       "0          2.855      USD          6852.000000  ...   \n",
       "1          5.750      USD         12075.000000  ...   \n",
       "2         85.000      USD         63750.000000  ...   \n",
       "3          0.001      USD             0.000001  ...   \n",
       "4          1.180      USD         51920.000000  ...   \n",
       "\n",
       "                     IndianCompany  \\\n",
       "0         GALAXY SURFACTANTS LTD.,   \n",
       "1        DADIA CHEMICAL INDUSTRIES   \n",
       "2           RA CHEM PHARMA LIMITED   \n",
       "3       CHEMSPEC CHEMICALS PVT LTD   \n",
       "4  PAYAL PETROCHEM PRIVATE LIMITED   \n",
       "\n",
       "                                            Address1 Address2  \\\n",
       "0     C-49/2,TTC INDUSTRIAL AREAPAWNE,  NAVI MUMBAI.      NaN   \n",
       "1  201, SHIVAM , 3RD FLOOR,  SATYAM SHOPPING CENT...      NaN   \n",
       "2  #.6-3-1239/2, AMAR HOUSE, 4TH FLOORRAJBHAWAN R...      NaN   \n",
       "3                                  9 WALLACE ST FORT      NaN   \n",
       "4                 E-24, NETAJI SUBHASH MARGDARYAGANJ      NaN   \n",
       "\n",
       "                          City                      ForeignCompany  \\\n",
       "0                  MAHARASHTRA            UNILEVER BANGLADESH LTD.   \n",
       "1     GHATKOPAR (EAST), MUMBAI          HARUMI HOLDINGS (PVT) LTD,   \n",
       "2              HYDERABAD, A.P.  MEDICAL & COSMETIC PRODUCTS CO.LTD   \n",
       "3  BOMBAY         ,MAHARASHTRA                 COSBEL S.A. DE C.V.   \n",
       "4                   NEW DELH I                  S. S. C. I.. C. L.   \n",
       "\n",
       "          Invoice_No    CUSH     IEC_PIN Item_No Item_Rate_INR  \n",
       "0           80206964  INNSA1      400703       1    181.666300  \n",
       "1   DCI/EXP-03/16-17  INNSA1  PIN-400077       1    387.831548  \n",
       "2     EXP/A106/16-17  INHYD4      500082       1   5512.002000  \n",
       "3  CSEXP/2016-17/143  INNSA1      400001       2      0.000000  \n",
       "4         PM/EXP/048  INHZA1         NaN       1      0.000000  \n",
       "\n",
       "[5 rows x 25 columns]"
      ]
     },
     "execution_count": 4,
     "metadata": {},
     "output_type": "execute_result"
    }
   ],
   "source": [
    "df.head(5)"
   ]
  },
  {
   "cell_type": "code",
   "execution_count": 9,
   "metadata": {},
   "outputs": [
    {
     "name": "stdout",
     "output_type": "stream",
     "text": [
      "Index(['BillNO', '4Digit', 'Date', 'HSCode', 'Product', 'Quantity', 'Unit',\n",
      "       'Item_Rate_INV', 'Currency', 'Total_Amount_INV_FC', 'FOB INR',\n",
      "       'ForeignPort', 'ForeignCountry', 'IndianPort', 'IEC', 'IndianCompany',\n",
      "       'Address1', 'Address2', 'City', 'ForeignCompany', 'Invoice_No', 'CUSH',\n",
      "       'IEC_PIN', 'Item_No', 'Item_Rate_INR'],\n",
      "      dtype='object')\n"
     ]
    }
   ],
   "source": [
    "col_name = df.columns\n",
    "print(col_name)"
   ]
  },
  {
   "cell_type": "markdown",
   "metadata": {},
   "source": [
    "# data clean"
   ]
  },
  {
   "cell_type": "code",
   "execution_count": null,
   "metadata": {},
   "outputs": [],
   "source": []
  },
  {
   "cell_type": "code",
   "execution_count": null,
   "metadata": {},
   "outputs": [],
   "source": []
  },
  {
   "cell_type": "markdown",
   "metadata": {},
   "source": [
    "# save to Database"
   ]
  },
  {
   "cell_type": "code",
   "execution_count": null,
   "metadata": {},
   "outputs": [],
   "source": []
  },
  {
   "cell_type": "markdown",
   "metadata": {},
   "source": [
    "# data query"
   ]
  },
  {
   "cell_type": "code",
   "execution_count": null,
   "metadata": {},
   "outputs": [],
   "source": []
  },
  {
   "cell_type": "markdown",
   "metadata": {},
   "source": [
    "# necessary plot"
   ]
  },
  {
   "cell_type": "code",
   "execution_count": null,
   "metadata": {},
   "outputs": [],
   "source": []
  }
 ],
 "metadata": {
  "kernelspec": {
   "display_name": "Python 3",
   "language": "python",
   "name": "python3"
  },
  "language_info": {
   "codemirror_mode": {
    "name": "ipython",
    "version": 3
   },
   "file_extension": ".py",
   "mimetype": "text/x-python",
   "name": "python",
   "nbconvert_exporter": "python",
   "pygments_lexer": "ipython3",
   "version": "3.8.5"
  },
  "toc": {
   "base_numbering": 1,
   "nav_menu": {},
   "number_sections": true,
   "sideBar": true,
   "skip_h1_title": false,
   "title_cell": "Table of Contents",
   "title_sidebar": "Contents",
   "toc_cell": false,
   "toc_position": {},
   "toc_section_display": true,
   "toc_window_display": true
  }
 },
 "nbformat": 4,
 "nbformat_minor": 4
}
